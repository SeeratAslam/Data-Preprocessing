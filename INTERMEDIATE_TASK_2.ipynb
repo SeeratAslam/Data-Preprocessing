{
  "nbformat": 4,
  "nbformat_minor": 0,
  "metadata": {
    "colab": {
      "provenance": []
    },
    "kernelspec": {
      "name": "python3",
      "display_name": "Python 3"
    },
    "language_info": {
      "name": "python"
    }
  },
  "cells": [
    {
      "cell_type": "markdown",
      "source": [
        "# **TASK 2: Perform Data Preprocessing**"
      ],
      "metadata": {
        "id": "VbELz7DBSqyy"
      }
    },
    {
      "cell_type": "code",
      "execution_count": null,
      "metadata": {
        "id": "M376Y9IjRapv"
      },
      "outputs": [],
      "source": [
        "# Step 1: Import required libraries\n",
        "import pandas as pd\n",
        "from sklearn.model_selection import train_test_split\n",
        "from sklearn.impute import SimpleImputer\n",
        "from sklearn.preprocessing import StandardScaler, OneHotEncoder\n",
        "from sklearn.compose import ColumnTransformer\n",
        "from sklearn.pipeline import Pipeline"
      ]
    },
    {
      "cell_type": "code",
      "source": [
        "# Step 2: Load the dataset\n",
        "from google.colab import drive\n",
        "drive.mount('/content/drive')"
      ],
      "metadata": {
        "colab": {
          "base_uri": "https://localhost:8080/"
        },
        "id": "ISHdxUPdTMIw",
        "outputId": "b1179183-4b68-455d-aeba-299c5d52d778"
      },
      "execution_count": null,
      "outputs": [
        {
          "output_type": "stream",
          "name": "stdout",
          "text": [
            "Mounted at /content/drive\n"
          ]
        }
      ]
    },
    {
      "cell_type": "code",
      "source": [
        "df = pd.read_csv('/content/drive/MyDrive/Colab Notebooks/train_data.csv')"
      ],
      "metadata": {
        "id": "c8uz-TH1TQ_n"
      },
      "execution_count": null,
      "outputs": []
    },
    {
      "cell_type": "code",
      "source": [
        "df.columns"
      ],
      "metadata": {
        "colab": {
          "base_uri": "https://localhost:8080/"
        },
        "id": "fCFJrHGLTz0w",
        "outputId": "0838545e-ca72-4525-fd45-2ef2d246fc7d"
      },
      "execution_count": null,
      "outputs": [
        {
          "output_type": "execute_result",
          "data": {
            "text/plain": [
              "Index(['Unnamed: 0', 'PassengerId', 'Survived', 'Sex', 'Age', 'Fare',\n",
              "       'Pclass_1', 'Pclass_2', 'Pclass_3', 'Family_size', 'Title_1', 'Title_2',\n",
              "       'Title_3', 'Title_4', 'Emb_1', 'Emb_2', 'Emb_3'],\n",
              "      dtype='object')"
            ]
          },
          "metadata": {},
          "execution_count": 7
        }
      ]
    },
    {
      "cell_type": "code",
      "source": [
        "# Step 3: Select relevant features (independent variables) and the target variable (Survived)\n",
        "# We're choosing a mix of numeric and categorical features\n",
        "X = df[[\"Sex\", \"Age\", \"Fare\", \"Pclass_1\", \"Pclass_2\", \"Pclass_3\", \"Emb_1\", \"Emb_2\", \"Emb_3\"]]\n",
        "y = df[\"Survived\"]"
      ],
      "metadata": {
        "id": "7jgbSzMhTkDJ"
      },
      "execution_count": null,
      "outputs": []
    },
    {
      "cell_type": "code",
      "source": [
        "# Step 4: Define which columns are numerical and which are categorical\n",
        "numeric_features = [\"Age\", \"Fare\"]         # These will be scaled and imputed\n",
        "categorical_features = [\"Sex\", \"Pclass_1\", \"Pclass_2\", \"Pclass_3\", \"Emb_1\", \"Emb_2\", \"Emb_3\"]           # These will be encoded"
      ],
      "metadata": {
        "id": "Nh-yzGsXUKS7"
      },
      "execution_count": null,
      "outputs": []
    },
    {
      "cell_type": "code",
      "source": [
        "# Step 5: Create a pipeline for numeric features\n",
        "# - Impute missing numeric values with the median\n",
        "# - Scale numeric values to have mean=0 and std=1\n",
        "num_pipeline = Pipeline([\n",
        "    (\"imputer\", SimpleImputer(strategy=\"median\")),   # Fill missing numeric values\n",
        "    (\"scaler\", StandardScaler())                     # Normalize numeric features\n",
        "])"
      ],
      "metadata": {
        "id": "MPB6faFyUZNg"
      },
      "execution_count": null,
      "outputs": []
    },
    {
      "cell_type": "code",
      "source": [
        "# Step 6: Create a pipeline for categorical features\n",
        "# - Impute missing values with the most frequent category\n",
        "# - Convert categorical values into numerical using OneHotEncoder\n",
        "cat_pipeline = Pipeline([\n",
        "    (\"imputer\", SimpleImputer(strategy=\"most_frequent\")),  # Fill missing categorical values\n",
        "    (\"encoder\", OneHotEncoder(handle_unknown=\"ignore\"))    # Convert to numeric using one-hot encoding\n",
        "])"
      ],
      "metadata": {
        "id": "s2Yx5qw-UfTp"
      },
      "execution_count": null,
      "outputs": []
    },
    {
      "cell_type": "code",
      "source": [
        "# Step 7: Combine both numeric and categorical pipelines using ColumnTransformer\n",
        "# This applies each pipeline only to its respective columns\n",
        "preprocessor = ColumnTransformer([\n",
        "    (\"num\", num_pipeline, numeric_features),\n",
        "    (\"cat\", cat_pipeline, categorical_features)\n",
        "])"
      ],
      "metadata": {
        "id": "gpFO912oUnmI"
      },
      "execution_count": null,
      "outputs": []
    },
    {
      "cell_type": "code",
      "source": [
        "# Step 8: Apply preprocessing to the features\n",
        "# This returns a transformed version of X with all features numeric and scaled/encoded\n",
        "X_processed = preprocessor.fit_transform(X)"
      ],
      "metadata": {
        "id": "8XJZrgY3UrF4"
      },
      "execution_count": null,
      "outputs": []
    },
    {
      "cell_type": "code",
      "source": [
        "# Step 9: Split the data into training and test sets (80% train, 20% test)\n",
        "# Random_state is set for reproducibility\n",
        "X_train, X_test, y_train, y_test = train_test_split(\n",
        "    X_processed, y, test_size=0.2, random_state=42\n",
        ")"
      ],
      "metadata": {
        "id": "qv5bF7NlU9dw"
      },
      "execution_count": null,
      "outputs": []
    },
    {
      "cell_type": "code",
      "source": [
        "# Step 10: Display the shape of train and test sets\n",
        "print(\"Data Split Summary\")\n",
        "print(f\"Training Features Shape: {X_train.shape}\")\n",
        "print(f\"Testing Features Shape : {X_test.shape}\")\n",
        "print(f\"Training Labels Count  : {len(y_train)}\")\n",
        "print(f\"Testing Labels Count   : {len(y_test)}\\n\")\n",
        "\n",
        "# Show first few training labels with indexing\n",
        "print(\"Sample of y_train (Target Labels for Training):\")\n",
        "print(pd.Series(y_train.values).head(10).to_string(index=True))\n",
        "\n",
        "print(\"\\nSample of y_test (Target Labels for Testing):\")\n",
        "print(pd.Series(y_test.values).head(10).to_string(index=True))\n",
        "\n",
        "# Show a sample from X_train in table format (as a DataFrame)\n",
        "print(\"\\nSample of Processed Training Features (X_train):\")\n",
        "X_train_df = pd.DataFrame(X_train[:5].toarray() if hasattr(X_train, 'toarray') else X_train[:5])\n",
        "print(X_train_df.round(2).to_string(index=False))"
      ],
      "metadata": {
        "colab": {
          "base_uri": "https://localhost:8080/"
        },
        "id": "CXysXVJUVBfn",
        "outputId": "59344d65-4bda-4ebc-a81a-227b65045b6f"
      },
      "execution_count": null,
      "outputs": [
        {
          "output_type": "stream",
          "name": "stdout",
          "text": [
            "Data Split Summary\n",
            "Training Features Shape: (633, 16)\n",
            "Testing Features Shape : (159, 16)\n",
            "Training Labels Count  : 633\n",
            "Testing Labels Count   : 159\n",
            "\n",
            "Sample of y_train (Target Labels for Training):\n",
            "0    0\n",
            "1    0\n",
            "2    0\n",
            "3    1\n",
            "4    1\n",
            "5    1\n",
            "6    1\n",
            "7    0\n",
            "8    0\n",
            "9    1\n",
            "\n",
            "Sample of y_test (Target Labels for Testing):\n",
            "0    0\n",
            "1    0\n",
            "2    0\n",
            "3    0\n",
            "4    0\n",
            "5    0\n",
            "6    0\n",
            "7    0\n",
            "8    0\n",
            "9    1\n",
            "\n",
            "Sample of Processed Training Features (X_train):\n",
            "   0     1   2   3   4   5   6   7   8   9   10  11  12  13  14  15\n",
            "-0.11 -0.39 0.0 1.0 1.0 0.0 0.0 1.0 1.0 0.0 1.0 0.0 1.0 0.0 0.0 1.0\n",
            " 0.04 -0.50 0.0 1.0 1.0 0.0 1.0 0.0 0.0 1.0 0.0 1.0 1.0 0.0 1.0 0.0\n",
            " 1.04 -0.13 0.0 1.0 1.0 0.0 0.0 1.0 1.0 0.0 1.0 0.0 1.0 0.0 0.0 1.0\n",
            "-0.11 -0.49 1.0 0.0 1.0 0.0 1.0 0.0 0.0 1.0 1.0 0.0 0.0 1.0 1.0 0.0\n",
            "-1.95 -0.38 1.0 0.0 1.0 0.0 1.0 0.0 0.0 1.0 0.0 1.0 1.0 0.0 1.0 0.0\n"
          ]
        }
      ]
    }
  ]
}